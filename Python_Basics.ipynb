{
 "cells": [
  {
   "cell_type": "code",
   "execution_count": 9,
   "id": "111e7ba8",
   "metadata": {},
   "outputs": [
    {
     "data": {
      "text/plain": [
       "'Python is a computer programming language often used \\nto build websites and software, machine learning, automate tasks. \\nPython is a general-purpose language as well as object oriented language.'"
      ]
     },
     "execution_count": 9,
     "metadata": {},
     "output_type": "execute_result"
    }
   ],
   "source": [
    "# What is Python?\n",
    "\n",
    "'''Python is a computer programming language often used \n",
    "to build websites and software, machine learning, automate tasks. \n",
    "Python is a general-purpose language as well as object oriented language.'''"
   ]
  },
  {
   "cell_type": "code",
   "execution_count": 7,
   "id": "436b71a0",
   "metadata": {},
   "outputs": [
    {
     "name": "stdout",
     "output_type": "stream",
     "text": [
      "Enter a value : Raghav\n",
      "Your value is : Raghav\n",
      "Your value is Raghav\n"
     ]
    }
   ],
   "source": [
    "# Python Basics\n",
    "\n",
    "# 1. Take Input\n",
    "value=input(\"Enter a value : \")\n",
    "\n",
    "# 2. Print Output\n",
    "print(\"Your value is : \"+value)\n",
    "\n",
    "# 3. Format\n",
    "print(f\"Your value is {value}\")"
   ]
  },
  {
   "cell_type": "code",
   "execution_count": 11,
   "id": "5a49997c",
   "metadata": {},
   "outputs": [
    {
     "data": {
      "text/plain": [
       "'Arithmetic, Assignment, Comparison, Logical '"
      ]
     },
     "execution_count": 11,
     "metadata": {},
     "output_type": "execute_result"
    }
   ],
   "source": [
    "# Operators \n",
    "\n",
    "'''Arithmetic, Assignment, Comparison, Logical '''"
   ]
  },
  {
   "cell_type": "code",
   "execution_count": 12,
   "id": "95002e17",
   "metadata": {},
   "outputs": [
    {
     "name": "stdout",
     "output_type": "stream",
     "text": [
      "Enter Value 1 : 20\n",
      "Enter Value 2 : 5\n",
      "Sum of Values :  25\n",
      "Subtraction of Values :  15\n",
      "Multiplication of Values :  100\n",
      "Division of Values :  4.0\n"
     ]
    }
   ],
   "source": [
    "# Arithmetic Operators :\n",
    "\n",
    "val_1=int(input(\"Enter Value 1 : \"))\n",
    "val_2=int(input(\"Enter Value 2 : \"))\n",
    "\n",
    "# Addition\n",
    "\n",
    "add = val_1 + val_2\n",
    "print(\"Sum of Values : \",add)\n",
    "\n",
    "# Subtraction\n",
    "\n",
    "sub = val_1 - val_2\n",
    "print(\"Subtraction of Values : \",sub)\n",
    "\n",
    "#Multiplication\n",
    "\n",
    "mul = val_1 * val_2\n",
    "print(\"Multiplication of Values : \",mul)\n",
    "\n",
    "#Division\n",
    "\n",
    "div = val_1 / val_2\n",
    "print(\"Division of Values : \",div)"
   ]
  },
  {
   "cell_type": "code",
   "execution_count": 13,
   "id": "02761e45",
   "metadata": {},
   "outputs": [
    {
     "name": "stdout",
     "output_type": "stream",
     "text": [
      "36\n",
      "36\n"
     ]
    }
   ],
   "source": [
    "# Assignment Operators : \n",
    "\n",
    "''' +, -, *, / '''\n",
    "\n",
    "height = 3\n",
    "length = 6\n",
    "width = 2\n",
    "volume = height * length * width\n",
    "print(volume)\n",
    "\n",
    "# Multiple Assignment Operators :\n",
    "\n",
    "height , length , width = 3 , 6 , 2\n",
    "volume = height * length * width\n",
    "print(volume)"
   ]
  },
  {
   "cell_type": "code",
   "execution_count": 14,
   "id": "7ef65765",
   "metadata": {},
   "outputs": [
    {
     "name": "stdout",
     "output_type": "stream",
     "text": [
      "True\n",
      "True\n"
     ]
    }
   ],
   "source": [
    "# Comparision Operator\n",
    "\n",
    "''' >, <, >=, <=, ==, != '''\n",
    "\n",
    "a = 3 > 1\n",
    "b = 1 < 3\n",
    "print(a)\n",
    "print(b)"
   ]
  },
  {
   "cell_type": "code",
   "execution_count": 15,
   "id": "024dc119",
   "metadata": {},
   "outputs": [
    {
     "name": "stdout",
     "output_type": "stream",
     "text": [
      "True\n",
      "False\n"
     ]
    }
   ],
   "source": [
    "# Logical Operator\n",
    "\n",
    "''' and, or, not '''\n",
    "\n",
    "rent = 1200\n",
    "is_affordable = rent > 1000 and rent < 2000\n",
    "print(is_affordable)\n",
    "\n",
    "is_afford = rent < 1000 or rent > 2000\n",
    "print(is_afford)\n"
   ]
  },
  {
   "cell_type": "code",
   "execution_count": 16,
   "id": "a3a2c171",
   "metadata": {},
   "outputs": [
    {
     "data": {
      "text/plain": [
       "'Integers, Floats, Booleans, Strings'"
      ]
     },
     "execution_count": 16,
     "metadata": {},
     "output_type": "execute_result"
    }
   ],
   "source": [
    "# Basic Data Types\n",
    "\n",
    "'''Integers, Floats, Booleans, Strings'''"
   ]
  },
  {
   "cell_type": "code",
   "execution_count": 18,
   "id": "5b45fecc",
   "metadata": {},
   "outputs": [
    {
     "name": "stdout",
     "output_type": "stream",
     "text": [
      "Enter Value : 25\n",
      "25\n",
      "25.0\n",
      "True\n",
      "Raghav\n"
     ]
    }
   ],
   "source": [
    "# By default input take values in string datatype\n",
    "val = input(\"Enter Value : \")\n",
    "\n",
    "# Integers\n",
    "int_val=int(val)\n",
    "print(int_val)\n",
    "\n",
    "# Float\n",
    "float_val=float(val)\n",
    "print(float_val)\n",
    "\n",
    "# Boolean\n",
    "is_positive = int_val>0\n",
    "print(is_positive)\n",
    "\n",
    "#Strings\n",
    "val=\"Raghav\"\n",
    "str_val=str(val)\n",
    "print(str_val)"
   ]
  },
  {
   "cell_type": "code",
   "execution_count": 19,
   "id": "42354bbb",
   "metadata": {},
   "outputs": [
    {
     "data": {
      "text/plain": [
       "'Lists, Tuples, Sets, Dictionaries'"
      ]
     },
     "execution_count": 19,
     "metadata": {},
     "output_type": "execute_result"
    }
   ],
   "source": [
    "# Advanced Data Types\n",
    "\n",
    "'''Lists, Tuples, Sets, Dictionaries'''"
   ]
  },
  {
   "cell_type": "code",
   "execution_count": 21,
   "id": "0a45cc95",
   "metadata": {},
   "outputs": [
    {
     "name": "stdout",
     "output_type": "stream",
     "text": [
      "Values using Starting index : \n",
      "sam\n",
      "pam\n",
      "rocky\n",
      "Values using Ending index : \n",
      "banner\n",
      "steve\n",
      "austin\n"
     ]
    }
   ],
   "source": [
    "# Lists\n",
    "\n",
    "''' A list is one of the most common and basic data structures in Python. \n",
    "    It is a mutable ordered sequence of elements. '''\n",
    "\n",
    "students = ['sam', 'pam', 'rocky', 'austin', 'steve', 'banner']\n",
    "\n",
    "#Accessing values from starting index\n",
    "\n",
    "print(\"Values using Starting index : \")\n",
    "print(students[0])\n",
    "print(students[1])\n",
    "print(students[2])\n",
    "\n",
    "#Acessing values from ending index\n",
    "\n",
    "print(\"Values using Ending index : \")\n",
    "print(students[-1])\n",
    "print(students[-2])\n",
    "print(students[-3])\n"
   ]
  },
  {
   "cell_type": "code",
   "execution_count": 22,
   "id": "c8a7dd2c",
   "metadata": {},
   "outputs": [
    {
     "name": "stdout",
     "output_type": "stream",
     "text": [
      "6\n",
      "6\n"
     ]
    }
   ],
   "source": [
    "# length of the list and the string\n",
    "students = ['sam', 'pam', 'rocky', 'austin', 'steve', 'banner']\n",
    "student = \"Raghav\"\n",
    "print(len(students))\n",
    "print(len(student))"
   ]
  },
  {
   "cell_type": "code",
   "execution_count": 23,
   "id": "9d9d7a3d",
   "metadata": {},
   "outputs": [
    {
     "name": "stdout",
     "output_type": "stream",
     "text": [
      "['steve', 'banner', 'tony']\n",
      "ag\n",
      "['bruce', 'henry', 'clark', 'diana']\n",
      "aghav\n",
      "['sam', 'pam', 'rocky', 'austin']\n",
      "Rag\n"
     ]
    }
   ],
   "source": [
    "students = ['sam', 'pam', 'rocky', 'austin', 'steve', 'banner', 'tony', 'bruce', \n",
    "            'henry', 'clark', 'diana']\n",
    "student = \"Raghav\"\n",
    "\n",
    "# slice a particular range\n",
    "s1 = students[4:7]\n",
    "s2 = student[1:3]\n",
    "\n",
    "print(s1)\n",
    "print(s2)\n",
    "\n",
    "# slice from the end\n",
    "s1 = students[7:]\n",
    "s2 = student[1:]\n",
    "\n",
    "print(s1)\n",
    "print(s2)\n",
    "\n",
    "# slice from the begining\n",
    "s1 = students[:4]\n",
    "s2 = student[:3]\n",
    "\n",
    "print(s1)\n",
    "print(s2)"
   ]
  },
  {
   "cell_type": "code",
   "execution_count": 24,
   "id": "689fa377",
   "metadata": {},
   "outputs": [
    {
     "name": "stdout",
     "output_type": "stream",
     "text": [
      "x-coordinate: 4\n",
      "y-coordinate: 5\n",
      "z-coordinate: 9\n"
     ]
    }
   ],
   "source": [
    "# Tuples\n",
    "\n",
    "''' A tuple is another useful container. \n",
    "    It's a data type for immutable ordered sequences of elements. '''\n",
    "\n",
    "vector = (4, 5, 9)\n",
    "\n",
    "print(\"x-coordinate:\", vector[0])\n",
    "print(\"y-coordinate:\", vector[1])\n",
    "print(\"z-coordinate:\", vector[2])"
   ]
  },
  {
   "cell_type": "code",
   "execution_count": 25,
   "id": "fafac428",
   "metadata": {},
   "outputs": [
    {
     "name": "stdout",
     "output_type": "stream",
     "text": [
      "2\n"
     ]
    }
   ],
   "source": [
    "# Dictionaries\n",
    "\n",
    "''' A dictionary is a mutable data type that stores mappings of unique keys to values. '''\n",
    "\n",
    "elements = {\"hydrogen\": 1, \"helium\": 2, \"carbon\": 6}\n",
    "\n",
    "# print the value mapped to \"helium\"\n",
    "\n",
    "print(elements[\"helium\"])\n",
    "\n",
    "# insert \"lithium\" with a value of 3 into the dictionary\n",
    "\n",
    "elements[\"lithium\"] = 3  "
   ]
  },
  {
   "cell_type": "code",
   "execution_count": 26,
   "id": "2b67250c",
   "metadata": {},
   "outputs": [],
   "source": [
    "# Loops\n",
    "\n",
    "# 1. while loop\n",
    "# 2. for loop\n",
    "# 3. nested loop\n"
   ]
  },
  {
   "cell_type": "code",
   "execution_count": 27,
   "id": "e9f7390b",
   "metadata": {},
   "outputs": [
    {
     "name": "stdout",
     "output_type": "stream",
     "text": [
      "Even Numbers list :  [2, 4, 6, 8, 10]\n"
     ]
    }
   ],
   "source": [
    "# While Loop\n",
    "\n",
    "num = 1\n",
    "\n",
    "even_numbers = []\n",
    "\n",
    "while num <= 10:\n",
    "\n",
    "    if num % 2 == 0:\n",
    "\n",
    "        even_numbers.append(num)\n",
    "\n",
    "    num += 1\n",
    "\n",
    "\n",
    "print(\"Even Numbers list : \", even_numbers )"
   ]
  },
  {
   "cell_type": "code",
   "execution_count": 28,
   "id": "5004fbf0",
   "metadata": {},
   "outputs": [
    {
     "name": "stdout",
     "output_type": "stream",
     "text": [
      "Even Numbers:  [2, 4, 6, 8, 10]\n"
     ]
    }
   ],
   "source": [
    "# For Loop\n",
    "\n",
    "even_nums = []\n",
    "\n",
    "for i in range(1, 11):\n",
    "    \n",
    "    if i % 2 == 0:\n",
    "        \n",
    "        even_nums.append(i)\n",
    "        \n",
    "print(\"Even Numbers: \", even_nums)"
   ]
  },
  {
   "cell_type": "code",
   "execution_count": 29,
   "id": "25d27861",
   "metadata": {},
   "outputs": [
    {
     "name": "stdout",
     "output_type": "stream",
     "text": [
      "Even Numbers:  [2, 4, 6, 8, 10]\n"
     ]
    }
   ],
   "source": [
    "# Nested Loops\n",
    "\n",
    "even_list = []\n",
    "\n",
    "for item in range(1, 11):\n",
    "    \n",
    "    while item % 2 == 0:\n",
    "        \n",
    "        even_list.append(item)\n",
    "        \n",
    "        break\n",
    "        \n",
    "print(\"Even Numbers: \", even_list)"
   ]
  },
  {
   "cell_type": "code",
   "execution_count": 30,
   "id": "6b7a3b8c",
   "metadata": {},
   "outputs": [],
   "source": [
    "# Loop Control statements\n",
    "\n",
    "# 1. break statement\n",
    "# 2. continue statement\n",
    "# 3. pass statement"
   ]
  },
  {
   "cell_type": "code",
   "execution_count": 31,
   "id": "24dcb2b0",
   "metadata": {},
   "outputs": [
    {
     "name": "stdout",
     "output_type": "stream",
     "text": [
      "1\n",
      "2\n",
      "3\n",
      "4\n"
     ]
    }
   ],
   "source": [
    "# Break Statement\n",
    "\n",
    "for num in range(1, 11):\n",
    "    \n",
    "    if num == 5:\n",
    "        \n",
    "        break\n",
    "        \n",
    "    else:\n",
    "        \n",
    "        print(num)"
   ]
  },
  {
   "cell_type": "code",
   "execution_count": 32,
   "id": "c71464f3",
   "metadata": {},
   "outputs": [
    {
     "name": "stdout",
     "output_type": "stream",
     "text": [
      "1\n",
      "2\n",
      "3\n",
      "4\n",
      "5\n",
      "7\n",
      "8\n",
      "9\n",
      "10\n"
     ]
    }
   ],
   "source": [
    "# Continue statement\n",
    "\n",
    "for num in range(1, 11):\n",
    "    \n",
    "    if num == 6:\n",
    "        \n",
    "        continue\n",
    "        \n",
    "    print(num)"
   ]
  },
  {
   "cell_type": "code",
   "execution_count": 33,
   "id": "eb275f29",
   "metadata": {},
   "outputs": [
    {
     "name": "stdout",
     "output_type": "stream",
     "text": [
      "1\n",
      "2\n",
      "3\n",
      "4\n",
      "5\n",
      "6\n",
      "7\n",
      "8\n",
      "9\n",
      "10\n"
     ]
    }
   ],
   "source": [
    "# Pass Statement\n",
    "\n",
    "for num in range(1, 11): \n",
    "    \n",
    "    if num == 6:\n",
    "        \n",
    "        pass\n",
    "    \n",
    "    print(num)"
   ]
  },
  {
   "cell_type": "code",
   "execution_count": 3,
   "id": "aef2e29b",
   "metadata": {},
   "outputs": [
    {
     "name": "stdout",
     "output_type": "stream",
     "text": [
      "Hello from a function\n"
     ]
    }
   ],
   "source": [
    "# Functions\n",
    "\n",
    "''' A function is a block of code which only runs when it is called. You can pass data, known \n",
    "as parameters, into a function. A function can return data as a result. '''\n",
    "\n",
    "# Function without Arguement\n",
    "\n",
    "def my_function():\n",
    "    \n",
    "  print(\"Hello from a function\")\n",
    "\n",
    "my_function()\n"
   ]
  },
  {
   "cell_type": "code",
   "execution_count": 4,
   "id": "63b8986b",
   "metadata": {},
   "outputs": [
    {
     "name": "stdout",
     "output_type": "stream",
     "text": [
      "Raghav Bhandari\n",
      "Rajeev Bhandari\n"
     ]
    }
   ],
   "source": [
    "# Python Arguement\n",
    "\n",
    "def my_function(fname):\n",
    "    \n",
    "  print(fname + \" Bhandari\")\n",
    "\n",
    "my_function(\"Raghav\")\n",
    "\n",
    "my_function(\"Rajeev\")"
   ]
  },
  {
   "cell_type": "code",
   "execution_count": 5,
   "id": "b07d017b",
   "metadata": {},
   "outputs": [
    {
     "name": "stdout",
     "output_type": "stream",
     "text": [
      "Sum: 8\n",
      "Sum: 22\n",
      "Sum: 17\n"
     ]
    }
   ],
   "source": [
    "# Python *args\n",
    "\n",
    "''' Python has *args which allow us to pass the variable number of non keyword arguments to function. '''\n",
    "\n",
    "def adder(*num):\n",
    "    sum = 0\n",
    "    \n",
    "    for n in num:\n",
    "        sum = sum + n\n",
    "\n",
    "    print(\"Sum:\",sum)\n",
    "\n",
    "adder(3,5)\n",
    "adder(4,5,6,7)\n",
    "adder(1,2,3,5,6)"
   ]
  },
  {
   "cell_type": "code",
   "execution_count": 6,
   "id": "294f21c2",
   "metadata": {},
   "outputs": [
    {
     "name": "stdout",
     "output_type": "stream",
     "text": [
      "Raghav\n",
      "20\n"
     ]
    }
   ],
   "source": [
    "# Class in Pyhton ( Basic)\n",
    "\n",
    "'''Python is an object oriented programming language.\n",
    "Almost everything in Python is an object, with its properties and methods.\n",
    "A Class is like an object constructor, or a \"blueprint\" for creating objects.'''\n",
    "\n",
    "class Person:\n",
    "  def __init__(self, name, age):\n",
    "    self.name = name\n",
    "    self.age = age\n",
    "\n",
    "p1 = Person(\"Raghav\", 20)\n",
    "\n",
    "print(p1.name)\n",
    "print(p1.age)"
   ]
  },
  {
   "cell_type": "code",
   "execution_count": null,
   "id": "74eea9f3",
   "metadata": {},
   "outputs": [],
   "source": []
  }
 ],
 "metadata": {
  "kernelspec": {
   "display_name": "Python 3 (ipykernel)",
   "language": "python",
   "name": "python3"
  },
  "language_info": {
   "codemirror_mode": {
    "name": "ipython",
    "version": 3
   },
   "file_extension": ".py",
   "mimetype": "text/x-python",
   "name": "python",
   "nbconvert_exporter": "python",
   "pygments_lexer": "ipython3",
   "version": "3.9.4"
  }
 },
 "nbformat": 4,
 "nbformat_minor": 5
}
