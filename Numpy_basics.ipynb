{
 "cells": [
  {
   "cell_type": "code",
   "execution_count": 1,
   "id": "485d68d4",
   "metadata": {},
   "outputs": [],
   "source": [
    "# FILE HANDLING\n",
    "\n",
    "# Syntax to Open a File\n",
    "# f = open(filename, mode)\n",
    "\n",
    "# Syntax to Close a File\n",
    "# f.close()\n",
    "\n",
    "# Modes in File Handling\n",
    "# Read = r;\n",
    "# Write = w;\n",
    "# Append= a;"
   ]
  },
  {
   "cell_type": "code",
   "execution_count": 7,
   "id": "70b4535c",
   "metadata": {},
   "outputs": [],
   "source": [
    "# Write in File\n",
    "\n",
    "file = open('sample.txt','w')\n",
    "file.write(\"This is the write command\\n\")\n",
    "file.write(\"It allows us to write in a particular file\\n\")\n",
    "file.close()"
   ]
  },
  {
   "cell_type": "code",
   "execution_count": 8,
   "id": "7d04f6e8",
   "metadata": {},
   "outputs": [
    {
     "name": "stdout",
     "output_type": "stream",
     "text": [
      "This is the write command\n",
      "It allows us to write in a particular file\n",
      "\n"
     ]
    }
   ],
   "source": [
    "file = open('sample.txt', 'r')\n",
    "\n",
    "# Read a file character by character\n",
    "print (file.read())\n",
    "\n",
    "# Read a file line by line\n",
    "for each_line in file:\n",
    "    print(each_line)"
   ]
  },
  {
   "cell_type": "code",
   "execution_count": 9,
   "id": "ae581193",
   "metadata": {},
   "outputs": [
    {
     "name": "stdout",
     "output_type": "stream",
     "text": [
      "This is the write command\n",
      "It allows us to write in a particular file\n",
      "This will add this line\n"
     ]
    }
   ],
   "source": [
    "# Append or Add in Existing File\n",
    "\n",
    "file = open('Sample.txt','a')\n",
    "file.write(\"This will add this line\")\n",
    "file.close()\n",
    "\n",
    "# Read a file character by character\n",
    "file = open('Sample.txt','r')\n",
    "print (file.read())"
   ]
  },
  {
   "cell_type": "code",
   "execution_count": null,
   "id": "9ec17828",
   "metadata": {},
   "outputs": [],
   "source": [
    "import numpy as np\n",
    "import pandas as pd"
   ]
  },
  {
   "cell_type": "code",
   "execution_count": 2,
   "id": "0bc9fad5",
   "metadata": {},
   "outputs": [],
   "source": [
    "# NUMPY STARTS"
   ]
  },
  {
   "cell_type": "code",
   "execution_count": 3,
   "id": "0ffe3fc9",
   "metadata": {},
   "outputs": [
    {
     "name": "stdout",
     "output_type": "stream",
     "text": [
      "[1 2 3 4 6 7 8]\n"
     ]
    }
   ],
   "source": [
    "oned_array = np.array([1, 2, 3, 4, 6, 7, 8])\n",
    "print(oned_array)"
   ]
  },
  {
   "cell_type": "code",
   "execution_count": 4,
   "id": "54c45157",
   "metadata": {},
   "outputs": [
    {
     "name": "stdout",
     "output_type": "stream",
     "text": [
      "[[ 6  5]\n",
      " [11  7]\n",
      " [ 4  8]]\n"
     ]
    }
   ],
   "source": [
    "twod_array = np.array([[6, 5], [11, 7], [4, 8]])\n",
    "print(twod_array)"
   ]
  },
  {
   "cell_type": "code",
   "execution_count": 5,
   "id": "21d81eee",
   "metadata": {},
   "outputs": [],
   "source": [
    "# BASIC PROPERTIES AND ATTRIBUTES"
   ]
  },
  {
   "cell_type": "code",
   "execution_count": 6,
   "id": "d9f95d7d",
   "metadata": {},
   "outputs": [
    {
     "name": "stdout",
     "output_type": "stream",
     "text": [
      "\n",
      "Original x =  [ 1  2  3  4  5  6  7  8  9 10 11 12]\n",
      "\n",
      "x has dimensions: (12,)\n",
      "x is an object of type: <class 'numpy.ndarray'>\n",
      "The elements in x are of type: int32\n"
     ]
    }
   ],
   "source": [
    "# We create a 1D ndarray that contains only integers\n",
    "x = np.array([1, 2, 3, 4, 5, 6, 7, 8, 9, 10, 11, 12])\n",
    "\n",
    "# We print x\n",
    "print()\n",
    "print('Original x = ', x)\n",
    "print()\n",
    "\n",
    "# We print information about the original x\n",
    "print('x has dimensions:', x.shape)\n",
    "print('x is an object of type:', type(x))\n",
    "print('The elements in x are of type:', x.dtype) \n"
   ]
  },
  {
   "cell_type": "code",
   "execution_count": 7,
   "id": "8fecd1fd",
   "metadata": {},
   "outputs": [
    {
     "name": "stdout",
     "output_type": "stream",
     "text": [
      "\n",
      "Reshaped x = \n",
      " [[ 1  2  3  4]\n",
      " [ 5  6  7  8]\n",
      " [ 9 10 11 12]]\n",
      "\n",
      "x has dimensions: (3, 4)\n",
      "x is an object of type: <class 'numpy.ndarray'>\n",
      "The elements in x are of type: int32\n"
     ]
    }
   ],
   "source": [
    "# We reshape x into a 4 x 5 ndarray \n",
    "x = np.reshape(x, (3,4))\n",
    "\n",
    "# We print the reshaped x\n",
    "print()\n",
    "print('Reshaped x = \\n', x)\n",
    "print()\n",
    "\n",
    "# We print information about the reshaped x\n",
    "print('x has dimensions:', x.shape)\n",
    "print('x is an object of type:', type(x))\n",
    "print('The elements in x are of type:', x.dtype) "
   ]
  },
  {
   "cell_type": "code",
   "execution_count": 8,
   "id": "d9e6740a",
   "metadata": {},
   "outputs": [
    {
     "name": "stdout",
     "output_type": "stream",
     "text": [
      "\n",
      "x =  [1 2 3 4 5]\n",
      "\n",
      "This is First Element in x: 1\n",
      "This is Second Element in x: 2\n",
      "This is Fifth (Last) Element in x: 5\n",
      "\n",
      "This is First Element in x: 1\n",
      "This is Second Element in x: 2\n",
      "This is Fifth (Last) Element in x: 5\n"
     ]
    }
   ],
   "source": [
    "# ACCESS ELEMENTS\n",
    "x = np.array([1, 2, 3, 4, 5])\n",
    "\n",
    "# We print x\n",
    "print()\n",
    "print('x = ', x)\n",
    "print()\n",
    "\n",
    "# Let's access some elements with positive indices\n",
    "print('This is First Element in x:', x[0]) \n",
    "print('This is Second Element in x:', x[1])\n",
    "print('This is Fifth (Last) Element in x:', x[4])\n",
    "print()\n",
    "\n",
    "# Let's access the same elements with negative indices\n",
    "print('This is First Element in x:', x[-5])\n",
    "print('This is Second Element in x:', x[-4])\n",
    "print('This is Fifth (Last) Element in x:', x[-1])"
   ]
  },
  {
   "cell_type": "code",
   "execution_count": 9,
   "id": "7fa804cc",
   "metadata": {},
   "outputs": [],
   "source": [
    "# NUMPY ENDS"
   ]
  },
  {
   "cell_type": "code",
   "execution_count": 12,
   "id": "42809e5c",
   "metadata": {},
   "outputs": [],
   "source": [
    "# PANDAS STARTS\n",
    "\n",
    "import numpy as np\n",
    "import pandas as pd"
   ]
  },
  {
   "cell_type": "code",
   "execution_count": 13,
   "id": "142e08ba",
   "metadata": {},
   "outputs": [
    {
     "name": "stdout",
     "output_type": "stream",
     "text": [
      "   temperature  activity\n",
      "0            0         3\n",
      "1           10         7\n",
      "2           20         9\n",
      "3           30        14\n",
      "4           40        15\n"
     ]
    }
   ],
   "source": [
    "# Create and populate a 5x2(rows x coloumns) NumPy array.\n",
    "my_data = np.array([[0, 3], [10, 7], [20, 9], [30, 14], [40, 15]])\n",
    "\n",
    "# Create a Python list that holds the names of the two columns.\n",
    "my_column_names = ['temperature', 'activity']\n",
    "\n",
    "# Create a DataFrame.\n",
    "my_dataframe = pd.DataFrame(data=my_data, columns=my_column_names)\n",
    "\n",
    "# Print the entire DataFrame\n",
    "print(my_dataframe)"
   ]
  },
  {
   "cell_type": "code",
   "execution_count": 15,
   "id": "5b3af6e3",
   "metadata": {},
   "outputs": [],
   "source": [
    "# Convert your dataframe into CSV \n",
    "\n",
    "my_dataframe.to_csv(\"Sample.csv\")"
   ]
  },
  {
   "cell_type": "code",
   "execution_count": 13,
   "id": "c92a3487",
   "metadata": {},
   "outputs": [],
   "source": [
    "# Input from your CSV into dataframe \n",
    "\n",
    "new_dataframe = pd.read_csv(\"Sample2.csv\",index_col=0)"
   ]
  },
  {
   "cell_type": "code",
   "execution_count": 15,
   "id": "d015898d",
   "metadata": {},
   "outputs": [
    {
     "name": "stdout",
     "output_type": "stream",
     "text": [
      "       Coloumn1  Coloumn2  new_coloumn3\n",
      "Index                                  \n",
      "0             0         3             5\n",
      "1            10         7             9\n",
      "2            20         9            11\n",
      "3            30        14            16\n",
      "4            40        15            17\n"
     ]
    }
   ],
   "source": [
    "# Create a new column named adjusted.\n",
    "new_dataframe[\"new_coloumn3\"] = new_dataframe[\"Coloumn2\"] + 2\n",
    "\n",
    "# Print the entire DataFrame\n",
    "print(new_dataframe)"
   ]
  },
  {
   "cell_type": "code",
   "execution_count": 25,
   "id": "2fa6c57d",
   "metadata": {},
   "outputs": [
    {
     "name": "stdout",
     "output_type": "stream",
     "text": [
      "Rows #0, #1, and #2:\n",
      "       Coloumn1  Coloumn2  new_coloumn3\n",
      "Index                                  \n",
      "0             0         3             5\n",
      "1            10         7             9\n",
      "2            20         9            11 \n",
      "\n",
      "Row #2:\n",
      "       Coloumn1  Coloumn2  new_coloumn3\n",
      "Index                                  \n",
      "2            20         9            11 \n",
      "\n",
      "Rows #1, #2, and #3:\n",
      "       Coloumn1  Coloumn2  new_coloumn3\n",
      "Index                                  \n",
      "1            10         7             9\n",
      "2            20         9            11\n",
      "3            30        14            16 \n",
      "\n",
      "Column 2:\n",
      "Index\n",
      "0     3\n",
      "1     7\n",
      "2     9\n",
      "3    14\n",
      "4    15\n",
      "Name: Coloumn2, dtype: int64\n"
     ]
    }
   ],
   "source": [
    "# BASIC ATTRIBUTES\n",
    "\n",
    "print(\"Rows #0, #1, and #2:\")\n",
    "print(new_dataframe.head(3), '\\n')\n",
    "\n",
    "print(\"Row #2:\")\n",
    "print(new_dataframe.iloc[[2]], '\\n')\n",
    "\n",
    "print(\"Rows #1, #2, and #3:\")\n",
    "print(new_dataframe[1:4], '\\n')\n",
    "\n",
    "print(\"Column 2:\")\n",
    "print(new_dataframe['Coloumn2'])"
   ]
  },
  {
   "cell_type": "code",
   "execution_count": 17,
   "id": "6a512fda",
   "metadata": {},
   "outputs": [],
   "source": [
    "# PANDAS ENDS"
   ]
  },
  {
   "cell_type": "code",
   "execution_count": 18,
   "id": "0e854371",
   "metadata": {},
   "outputs": [],
   "source": [
    "# MATPLOTLIB STARTS"
   ]
  },
  {
   "cell_type": "code",
   "execution_count": 19,
   "id": "e650afc6",
   "metadata": {},
   "outputs": [],
   "source": [
    "from matplotlib import pyplot as plt"
   ]
  },
  {
   "cell_type": "code",
   "execution_count": 20,
   "id": "4244aa67",
   "metadata": {},
   "outputs": [],
   "source": [
    "x_values = [1,2,3,4]\n",
    "y_values = [5,4,6,2]"
   ]
  },
  {
   "cell_type": "code",
   "execution_count": 21,
   "id": "ec798dcf",
   "metadata": {},
   "outputs": [
    {
     "data": {
      "image/png": "[encoded data removed]",
      "text/plain": [
       "<Figure size 432x288 with 1 Axes>"
      ]
     },
     "metadata": {
      "needs_background": "light"
     },
     "output_type": "display_data"
    }
   ],
   "source": [
    "plt.scatter(x_values,y_values)\n",
    "plt.show()"
   ]
  },
  {
   "cell_type": "code",
   "execution_count": 22,
   "id": "dcc1192c",
   "metadata": {},
   "outputs": [
    {
     "data": {
      "image/png": "[encoded data removed]",
      "text/plain": [
       "<Figure size 432x288 with 1 Axes>"
      ]
     },
     "metadata": {
      "needs_background": "light"
     },
     "output_type": "display_data"
    }
   ],
   "source": [
    "# Initialise values\n",
    "x_values = np.array([1,2,3,4])\n",
    "y_values=np.array([5,4,6,2])\n",
    "\n",
    "# Plot Values\n",
    "plt.plot(x_values,y_values)\n",
    "\n",
    "# Title of Plot\n",
    "plt.title(\"Title of Plot\")\n",
    "\n",
    "# Define Labels \n",
    "plt.xlabel(\"x values\")\n",
    "plt.ylabel(\"y values\")\n",
    "\n",
    "# Show Plot\n",
    "plt.show()"
   ]
  },
  {
   "cell_type": "code",
   "execution_count": 23,
   "id": "7e35985d",
   "metadata": {},
   "outputs": [
    {
     "data": {
      "image/png": "[encoded data removed]",
      "text/plain": [
       "<Figure size 432x288 with 1 Axes>"
      ]
     },
     "metadata": {
      "needs_background": "light"
     },
     "output_type": "display_data"
    }
   ],
   "source": [
    "# Change Axis Values\n",
    "\n",
    "plt.axis([2,4,4,6])\n",
    "plt.plot(x_values,y_values)\n",
    "plt.show()"
   ]
  },
  {
   "cell_type": "code",
   "execution_count": 24,
   "id": "545524e5",
   "metadata": {},
   "outputs": [],
   "source": [
    "# MATPLOTLIB ENDS"
   ]
  },
  {
   "cell_type": "code",
   "execution_count": null,
   "id": "a1baede1",
   "metadata": {},
   "outputs": [],
   "source": []
  }
 ],
 "metadata": {
  "kernelspec": {
   "display_name": "Python 3 (ipykernel)",
   "language": "python",
   "name": "python3"
  },
  "language_info": {
   "codemirror_mode": {
    "name": "ipython",
    "version": 3
   },
   "file_extension": ".py",
   "mimetype": "text/x-python",
   "name": "python",
   "nbconvert_exporter": "python",
   "pygments_lexer": "ipython3",
   "version": "3.9.4"
  }
 },
 "nbformat": 4,
 "nbformat_minor": 5
}
